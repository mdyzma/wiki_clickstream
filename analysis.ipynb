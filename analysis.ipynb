{
 "cells": [
  {
   "cell_type": "markdown",
   "metadata": {},
   "source": [
    "# Intorduction"
   ]
  },
  {
   "cell_type": "markdown",
   "metadata": {},
   "source": [
    "## Task description\n",
    "\n",
    "Data source: Wikipedia Clickstream https://meta.wikimedia.org/wiki/Research:Wikipedia_clickstream\n",
    "Prepare a Jupyter Notebook that shows how to:\n",
    "\n",
    "1. Determine which links people click on most frequently in a given article.\n",
    "2. Determine the most common referrers for a given article.\n",
    "3. Determine what percentage of all visitors clicked on a link within a given article.\n",
    "4. Determine and visualize the most popular articles people accessed from all external search engines.\n",
    "\n",
    "Requirements:\n",
    "1. You should create Jupyter Notebook that can be re-run to validate your tasks. Any comments in notebook or\n",
    "additional readme file are welcome.\n",
    "2. You are free to choose any libraries you need.\n",
    "3. It would be great if you share your code, dependencies and notebook on Github or any other similar platform."
   ]
  },
  {
   "cell_type": "markdown",
   "metadata": {},
   "source": [
    "## Notebook technical aspects\n",
    "\n",
    "Most libraries used in this notebook should be present in latest Anaconda bundle distribution (**Anaconda 5.1.0**) from [here](https://repo.continuum.io/archive/).\n",
    "\n",
    "List of main packages used in the analysis: \n",
    "\n",
    "\n",
    "| Package     | Version     | Description                                            |\n",
    "|-------------|-------------|--------------------------------------------------------|\n",
    "| jupyter     | >=1.0.0     | Code interpreter in browser environment engine         |\n",
    "| jupyterlab  | >=0.31.4    | Next generation notebook environment                   | \n",
    "| numpy       | >=1.14..0   | Efficient, vectorized matrix and vectror computations  |\n",
    "| pandas      | >=0.22.0    | Data manipulation tool (tabular display, grouping)     |\n",
    "| matplotlib  | >=2.1.2     | Basic visualization tool (2D plots)                    |\n",
    "| seaborn     | >=0.8.1     | Statistical visualizations tool                        |\n",
    "| watermark   | >=1.6.0     | Jupyter system info display                            |\n",
    "\n",
    "\n",
    "Due to archive size I chose English Wikipedia clickstream data file from June 2018 is 314 MB in compressed form:\n",
    "\n",
    "https://dumps.wikimedia.org/other/clickstream/2018-06/clickstream-enwiki-2018-06.tsv.gz"
   ]
  },
  {
   "cell_type": "markdown",
   "metadata": {},
   "source": [
    "## Packages installation"
   ]
  },
  {
   "cell_type": "code",
   "execution_count": null,
   "metadata": {},
   "outputs": [],
   "source": [
    "# Manual for each package\n",
    "#-q quite, -U upgrade if package exists and newer is avaliable\n",
    "!pip install -q -U jupyterlab numpy pandas matplotlib seaborn watermark"
   ]
  },
  {
   "cell_type": "code",
   "execution_count": 2,
   "metadata": {},
   "outputs": [],
   "source": [
    "# Tool to list basic properties of the system and python environment\n",
    "%load_ext watermark"
   ]
  },
  {
   "cell_type": "code",
   "execution_count": 3,
   "metadata": {},
   "outputs": [
    {
     "name": "stdout",
     "output_type": "stream",
     "text": [
      "Michal Dyzma 2018-07-19 \n",
      "\n",
      "CPython 3.6.5\n",
      "IPython 6.4.0\n",
      "\n",
      "jupyterlab 0.32.1\n",
      "numpy 1.14.3\n",
      "pandas 0.23.0\n",
      "matplotlib 2.2.2\n",
      "seaborn 0.8.1\n",
      "watermark 1.6.0\n",
      "\n",
      "compiler   : MSC v.1900 64 bit (AMD64)\n",
      "system     : Windows\n",
      "release    : 10\n",
      "machine    : AMD64\n",
      "processor  : Intel64 Family 6 Model 60 Stepping 3, GenuineIntel\n",
      "CPU cores  : 4\n",
      "interpreter: 64bit\n"
     ]
    }
   ],
   "source": [
    "%watermark -a \"Michal Dyzma\" -d -m -v -p jupyterlab,numpy,pandas,matplotlib,seaborn,watermark"
   ]
  },
  {
   "cell_type": "markdown",
   "metadata": {},
   "source": [
    "# Analysis"
   ]
  },
  {
   "cell_type": "markdown",
   "metadata": {},
   "source": [
    "## Data description \n",
    "\n",
    "https://meta.wikimedia.org/wiki/Research:Wikipedia_clickstream\n",
    "\n",
    "For each release, and for several Wikipedia language versions, we take one months worth of requests for articles in the main namespace. Referrers are mapped to a fixed set of values, based on this scheme:\n",
    "\n",
    "an article in the main namespace -> the article title\n",
    "a page from any other Wikimedia project -> other-internal\n",
    "an external search engine -> other-search\n",
    "any other external site -> other-external\n",
    "an empty referrer -> other-empty\n",
    "anything else -> other-other\n",
    "\n",
    "The current data includes the following 4 fields:\n",
    "\n",
    "* prev: the result of mapping the referer URL to the fixed set of values described above\n",
    "* curr: the title of the article the client requested\n",
    "* type: describes (prev, curr)\n",
    "    - link: if the referrer and request are both articles and the referrer links to the request\n",
    "    - external: if the referrer host is not en(.m)?.wikipedia.org\n",
    "    - other: if the referer and request are both articles but the referrer does not link to the request. This can happen when clients search or spoof their refer.\n",
    "* n: the number of occurrences of the (referrer, resource) pair"
   ]
  },
  {
   "cell_type": "markdown",
   "metadata": {},
   "source": [
    "## Load data"
   ]
  },
  {
   "cell_type": "code",
   "execution_count": 4,
   "metadata": {},
   "outputs": [],
   "source": [
    "import pandas as pd\n",
    "import numpy as np"
   ]
  },
  {
   "cell_type": "code",
   "execution_count": 6,
   "metadata": {},
   "outputs": [],
   "source": [
    "# Download may take a while (314 MB), please be patient\n",
    "data = pd.read_csv('https://dumps.wikimedia.org/other/clickstream/2018-06/clickstream-enwiki-2018-06.tsv.gz', compression='gzip', sep='\\t', header=None)\n",
    "data.columns= ['prev', 'curr', 'type', 'n']"
   ]
  },
  {
   "cell_type": "code",
   "execution_count": 5,
   "metadata": {},
   "outputs": [],
   "source": [
    "# alternatively you can download via web browser and place in the folder with notebook\n",
    "# data = pd.read_csv('clickstream-enwiki-2018-06.tsv.gz', compression='gzip', sep='\\t', header=None)\n",
    "# data.columns= ['prev', 'curr', 'type', 'n']"
   ]
  },
  {
   "cell_type": "code",
   "execution_count": 7,
   "metadata": {},
   "outputs": [],
   "source": []
  },
  {
   "cell_type": "markdown",
   "metadata": {},
   "source": [
    "## Descriptive statistics and exploratory data analysis"
   ]
  },
  {
   "cell_type": "code",
   "execution_count": 8,
   "metadata": {},
   "outputs": [
    {
     "data": {
      "text/html": [
       "<div>\n",
       "<style scoped>\n",
       "    .dataframe tbody tr th:only-of-type {\n",
       "        vertical-align: middle;\n",
       "    }\n",
       "\n",
       "    .dataframe tbody tr th {\n",
       "        vertical-align: top;\n",
       "    }\n",
       "\n",
       "    .dataframe thead th {\n",
       "        text-align: right;\n",
       "    }\n",
       "</style>\n",
       "<table border=\"1\" class=\"dataframe\">\n",
       "  <thead>\n",
       "    <tr style=\"text-align: right;\">\n",
       "      <th></th>\n",
       "      <th>prev</th>\n",
       "      <th>curr</th>\n",
       "      <th>type</th>\n",
       "      <th>n</th>\n",
       "    </tr>\n",
       "  </thead>\n",
       "  <tbody>\n",
       "    <tr>\n",
       "      <th>0</th>\n",
       "      <td>other-other</td>\n",
       "      <td>Decian_persecution</td>\n",
       "      <td>external</td>\n",
       "      <td>17</td>\n",
       "    </tr>\n",
       "    <tr>\n",
       "      <th>1</th>\n",
       "      <td>Babylas_of_Antioch</td>\n",
       "      <td>Decian_persecution</td>\n",
       "      <td>link</td>\n",
       "      <td>10</td>\n",
       "    </tr>\n",
       "    <tr>\n",
       "      <th>2</th>\n",
       "      <td>Decius</td>\n",
       "      <td>Decian_persecution</td>\n",
       "      <td>link</td>\n",
       "      <td>82</td>\n",
       "    </tr>\n",
       "    <tr>\n",
       "      <th>3</th>\n",
       "      <td>other-internal</td>\n",
       "      <td>Decian_persecution</td>\n",
       "      <td>external</td>\n",
       "      <td>18</td>\n",
       "    </tr>\n",
       "    <tr>\n",
       "      <th>4</th>\n",
       "      <td>Roman_Empire</td>\n",
       "      <td>Decian_persecution</td>\n",
       "      <td>link</td>\n",
       "      <td>14</td>\n",
       "    </tr>\n",
       "    <tr>\n",
       "      <th>5</th>\n",
       "      <td>Pope_Fabian</td>\n",
       "      <td>Decian_persecution</td>\n",
       "      <td>link</td>\n",
       "      <td>32</td>\n",
       "    </tr>\n",
       "    <tr>\n",
       "      <th>6</th>\n",
       "      <td>Saint_Lucy</td>\n",
       "      <td>Decian_persecution</td>\n",
       "      <td>link</td>\n",
       "      <td>33</td>\n",
       "    </tr>\n",
       "    <tr>\n",
       "      <th>7</th>\n",
       "      <td>Origen</td>\n",
       "      <td>Decian_persecution</td>\n",
       "      <td>link</td>\n",
       "      <td>264</td>\n",
       "    </tr>\n",
       "    <tr>\n",
       "      <th>8</th>\n",
       "      <td>Persecution_of_Christians_in_the_Roman_Empire</td>\n",
       "      <td>Decian_persecution</td>\n",
       "      <td>link</td>\n",
       "      <td>41</td>\n",
       "    </tr>\n",
       "    <tr>\n",
       "      <th>9</th>\n",
       "      <td>Hypatia</td>\n",
       "      <td>Decian_persecution</td>\n",
       "      <td>link</td>\n",
       "      <td>20</td>\n",
       "    </tr>\n",
       "  </tbody>\n",
       "</table>\n",
       "</div>"
      ],
      "text/plain": [
       "                                            prev                curr  \\\n",
       "0                                    other-other  Decian_persecution   \n",
       "1                             Babylas_of_Antioch  Decian_persecution   \n",
       "2                                         Decius  Decian_persecution   \n",
       "3                                 other-internal  Decian_persecution   \n",
       "4                                   Roman_Empire  Decian_persecution   \n",
       "5                                    Pope_Fabian  Decian_persecution   \n",
       "6                                     Saint_Lucy  Decian_persecution   \n",
       "7                                         Origen  Decian_persecution   \n",
       "8  Persecution_of_Christians_in_the_Roman_Empire  Decian_persecution   \n",
       "9                                        Hypatia  Decian_persecution   \n",
       "\n",
       "       type    n  \n",
       "0  external   17  \n",
       "1      link   10  \n",
       "2      link   82  \n",
       "3  external   18  \n",
       "4      link   14  \n",
       "5      link   32  \n",
       "6      link   33  \n",
       "7      link  264  \n",
       "8      link   41  \n",
       "9      link   20  "
      ]
     },
     "execution_count": 8,
     "metadata": {},
     "output_type": "execute_result"
    }
   ],
   "source": [
    "data.head(10)"
   ]
  },
  {
   "cell_type": "code",
   "execution_count": 9,
   "metadata": {},
   "outputs": [
    {
     "data": {
      "text/html": [
       "<div>\n",
       "<style scoped>\n",
       "    .dataframe tbody tr th:only-of-type {\n",
       "        vertical-align: middle;\n",
       "    }\n",
       "\n",
       "    .dataframe tbody tr th {\n",
       "        vertical-align: top;\n",
       "    }\n",
       "\n",
       "    .dataframe thead th {\n",
       "        text-align: right;\n",
       "    }\n",
       "</style>\n",
       "<table border=\"1\" class=\"dataframe\">\n",
       "  <thead>\n",
       "    <tr style=\"text-align: right;\">\n",
       "      <th></th>\n",
       "      <th>prev</th>\n",
       "      <th>curr</th>\n",
       "      <th>type</th>\n",
       "      <th>n</th>\n",
       "    </tr>\n",
       "  </thead>\n",
       "  <tbody>\n",
       "    <tr>\n",
       "      <th>count</th>\n",
       "      <td>27685018</td>\n",
       "      <td>27685017</td>\n",
       "      <td>27685040</td>\n",
       "      <td>2.768504e+07</td>\n",
       "    </tr>\n",
       "    <tr>\n",
       "      <th>unique</th>\n",
       "      <td>1636297</td>\n",
       "      <td>4376244</td>\n",
       "      <td>3</td>\n",
       "      <td>NaN</td>\n",
       "    </tr>\n",
       "    <tr>\n",
       "      <th>top</th>\n",
       "      <td>other-empty</td>\n",
       "      <td>Hyphen-minus</td>\n",
       "      <td>link</td>\n",
       "      <td>NaN</td>\n",
       "    </tr>\n",
       "    <tr>\n",
       "      <th>freq</th>\n",
       "      <td>4115587</td>\n",
       "      <td>126087</td>\n",
       "      <td>16489512</td>\n",
       "      <td>NaN</td>\n",
       "    </tr>\n",
       "    <tr>\n",
       "      <th>mean</th>\n",
       "      <td>NaN</td>\n",
       "      <td>NaN</td>\n",
       "      <td>NaN</td>\n",
       "      <td>2.362320e+02</td>\n",
       "    </tr>\n",
       "    <tr>\n",
       "      <th>std</th>\n",
       "      <td>NaN</td>\n",
       "      <td>NaN</td>\n",
       "      <td>NaN</td>\n",
       "      <td>7.545852e+04</td>\n",
       "    </tr>\n",
       "    <tr>\n",
       "      <th>min</th>\n",
       "      <td>NaN</td>\n",
       "      <td>NaN</td>\n",
       "      <td>NaN</td>\n",
       "      <td>1.000000e+01</td>\n",
       "    </tr>\n",
       "    <tr>\n",
       "      <th>25%</th>\n",
       "      <td>NaN</td>\n",
       "      <td>NaN</td>\n",
       "      <td>NaN</td>\n",
       "      <td>1.500000e+01</td>\n",
       "    </tr>\n",
       "    <tr>\n",
       "      <th>50%</th>\n",
       "      <td>NaN</td>\n",
       "      <td>NaN</td>\n",
       "      <td>NaN</td>\n",
       "      <td>2.800000e+01</td>\n",
       "    </tr>\n",
       "    <tr>\n",
       "      <th>75%</th>\n",
       "      <td>NaN</td>\n",
       "      <td>NaN</td>\n",
       "      <td>NaN</td>\n",
       "      <td>7.500000e+01</td>\n",
       "    </tr>\n",
       "    <tr>\n",
       "      <th>max</th>\n",
       "      <td>NaN</td>\n",
       "      <td>NaN</td>\n",
       "      <td>NaN</td>\n",
       "      <td>3.953500e+08</td>\n",
       "    </tr>\n",
       "  </tbody>\n",
       "</table>\n",
       "</div>"
      ],
      "text/plain": [
       "               prev          curr      type             n\n",
       "count      27685018      27685017  27685040  2.768504e+07\n",
       "unique      1636297       4376244         3           NaN\n",
       "top     other-empty  Hyphen-minus      link           NaN\n",
       "freq        4115587        126087  16489512           NaN\n",
       "mean            NaN           NaN       NaN  2.362320e+02\n",
       "std             NaN           NaN       NaN  7.545852e+04\n",
       "min             NaN           NaN       NaN  1.000000e+01\n",
       "25%             NaN           NaN       NaN  1.500000e+01\n",
       "50%             NaN           NaN       NaN  2.800000e+01\n",
       "75%             NaN           NaN       NaN  7.500000e+01\n",
       "max             NaN           NaN       NaN  3.953500e+08"
      ]
     },
     "execution_count": 9,
     "metadata": {},
     "output_type": "execute_result"
    }
   ],
   "source": [
    "data.describe(include='all')"
   ]
  },
  {
   "cell_type": "code",
   "execution_count": 10,
   "metadata": {},
   "outputs": [
    {
     "name": "stdout",
     "output_type": "stream",
     "text": [
      "<class 'pandas.core.frame.DataFrame'>\n",
      "RangeIndex: 27685040 entries, 0 to 27685039\n",
      "Data columns (total 4 columns):\n",
      "prev    object\n",
      "curr    object\n",
      "type    object\n",
      "n       int64\n",
      "dtypes: int64(1), object(3)\n",
      "memory usage: 844.9+ MB\n"
     ]
    }
   ],
   "source": [
    "# Another way of getting table (data frame object) basic composition is info method\n",
    "data.info()"
   ]
  },
  {
   "cell_type": "code",
   "execution_count": 11,
   "metadata": {},
   "outputs": [
    {
     "data": {
      "text/plain": [
       "45"
      ]
     },
     "execution_count": 11,
     "metadata": {},
     "output_type": "execute_result"
    }
   ],
   "source": [
    "# Any missing data?\n",
    "pd.isnull(data).sum().sum()"
   ]
  },
  {
   "cell_type": "markdown",
   "metadata": {},
   "source": [
    "Total amount of missing data in any of the columns is very low."
   ]
  },
  {
   "cell_type": "code",
   "execution_count": 12,
   "metadata": {},
   "outputs": [
    {
     "data": {
      "text/plain": [
       "0.00016254265841768697"
      ]
     },
     "execution_count": 12,
     "metadata": {},
     "output_type": "execute_result"
    }
   ],
   "source": [
    "pd.isnull(data).sum().sum()/len(data) * 100"
   ]
  },
  {
   "cell_type": "code",
   "execution_count": 13,
   "metadata": {},
   "outputs": [
    {
     "data": {
      "text/html": [
       "<div>\n",
       "<style scoped>\n",
       "    .dataframe tbody tr th:only-of-type {\n",
       "        vertical-align: middle;\n",
       "    }\n",
       "\n",
       "    .dataframe tbody tr th {\n",
       "        vertical-align: top;\n",
       "    }\n",
       "\n",
       "    .dataframe thead th {\n",
       "        text-align: right;\n",
       "    }\n",
       "</style>\n",
       "<table border=\"1\" class=\"dataframe\">\n",
       "  <thead>\n",
       "    <tr style=\"text-align: right;\">\n",
       "      <th></th>\n",
       "      <th>prev</th>\n",
       "      <th>curr</th>\n",
       "      <th>type</th>\n",
       "      <th>n</th>\n",
       "    </tr>\n",
       "  </thead>\n",
       "  <tbody>\n",
       "    <tr>\n",
       "      <th>1243865</th>\n",
       "      <td>NaN</td>\n",
       "      <td>Imaginary_number</td>\n",
       "      <td>link</td>\n",
       "      <td>17</td>\n",
       "    </tr>\n",
       "    <tr>\n",
       "      <th>2822357</th>\n",
       "      <td>NaN</td>\n",
       "      <td>Indeterminate_form</td>\n",
       "      <td>link</td>\n",
       "      <td>60</td>\n",
       "    </tr>\n",
       "    <tr>\n",
       "      <th>3122407</th>\n",
       "      <td>NaN</td>\n",
       "      <td>Extended_real_number_line</td>\n",
       "      <td>link</td>\n",
       "      <td>27</td>\n",
       "    </tr>\n",
       "    <tr>\n",
       "      <th>4195944</th>\n",
       "      <td>NaN</td>\n",
       "      <td>Nan</td>\n",
       "      <td>other</td>\n",
       "      <td>18</td>\n",
       "    </tr>\n",
       "    <tr>\n",
       "      <th>6061489</th>\n",
       "      <td>NaN</td>\n",
       "      <td>Zero_to_the_power_of_zero</td>\n",
       "      <td>link</td>\n",
       "      <td>32</td>\n",
       "    </tr>\n",
       "    <tr>\n",
       "      <th>8452761</th>\n",
       "      <td>NaN</td>\n",
       "      <td>Real_number</td>\n",
       "      <td>link</td>\n",
       "      <td>10</td>\n",
       "    </tr>\n",
       "    <tr>\n",
       "      <th>11967365</th>\n",
       "      <td>NaN</td>\n",
       "      <td>Hyphen-minus</td>\n",
       "      <td>other</td>\n",
       "      <td>14</td>\n",
       "    </tr>\n",
       "    <tr>\n",
       "      <th>13542293</th>\n",
       "      <td>NaN</td>\n",
       "      <td>Integer_overflow</td>\n",
       "      <td>link</td>\n",
       "      <td>12</td>\n",
       "    </tr>\n",
       "    <tr>\n",
       "      <th>17779608</th>\n",
       "      <td>NaN</td>\n",
       "      <td>Main_Page</td>\n",
       "      <td>other</td>\n",
       "      <td>20</td>\n",
       "    </tr>\n",
       "    <tr>\n",
       "      <th>18553454</th>\n",
       "      <td>NaN</td>\n",
       "      <td>Denormal_number</td>\n",
       "      <td>link</td>\n",
       "      <td>23</td>\n",
       "    </tr>\n",
       "    <tr>\n",
       "      <th>18681934</th>\n",
       "      <td>NaN</td>\n",
       "      <td>Sodium_azide</td>\n",
       "      <td>link</td>\n",
       "      <td>75</td>\n",
       "    </tr>\n",
       "    <tr>\n",
       "      <th>19490518</th>\n",
       "      <td>NaN</td>\n",
       "      <td>Floating-point_arithmetic</td>\n",
       "      <td>link</td>\n",
       "      <td>80</td>\n",
       "    </tr>\n",
       "    <tr>\n",
       "      <th>20136593</th>\n",
       "      <td>NaN</td>\n",
       "      <td>Data_type</td>\n",
       "      <td>link</td>\n",
       "      <td>29</td>\n",
       "    </tr>\n",
       "    <tr>\n",
       "      <th>20192844</th>\n",
       "      <td>NaN</td>\n",
       "      <td>Double-precision_floating-point_format</td>\n",
       "      <td>link</td>\n",
       "      <td>26</td>\n",
       "    </tr>\n",
       "    <tr>\n",
       "      <th>20877173</th>\n",
       "      <td>NaN</td>\n",
       "      <td>IEEE_754</td>\n",
       "      <td>link</td>\n",
       "      <td>235</td>\n",
       "    </tr>\n",
       "    <tr>\n",
       "      <th>21736447</th>\n",
       "      <td>NaN</td>\n",
       "      <td>Undefined_behavior</td>\n",
       "      <td>link</td>\n",
       "      <td>14</td>\n",
       "    </tr>\n",
       "    <tr>\n",
       "      <th>21740800</th>\n",
       "      <td>NaN</td>\n",
       "      <td>Infinity</td>\n",
       "      <td>link</td>\n",
       "      <td>42</td>\n",
       "    </tr>\n",
       "    <tr>\n",
       "      <th>24293997</th>\n",
       "      <td>NaN</td>\n",
       "      <td>Single-precision_floating-point_format</td>\n",
       "      <td>link</td>\n",
       "      <td>11</td>\n",
       "    </tr>\n",
       "    <tr>\n",
       "      <th>24993113</th>\n",
       "      <td>NaN</td>\n",
       "      <td>Computer_algebra</td>\n",
       "      <td>link</td>\n",
       "      <td>17</td>\n",
       "    </tr>\n",
       "    <tr>\n",
       "      <th>25105098</th>\n",
       "      <td>other-external</td>\n",
       "      <td>NaN</td>\n",
       "      <td>external</td>\n",
       "      <td>972</td>\n",
       "    </tr>\n",
       "    <tr>\n",
       "      <th>25105099</th>\n",
       "      <td>Magic_number_(programming)</td>\n",
       "      <td>NaN</td>\n",
       "      <td>link</td>\n",
       "      <td>49</td>\n",
       "    </tr>\n",
       "    <tr>\n",
       "      <th>25105100</th>\n",
       "      <td>Lua_(programming_language)</td>\n",
       "      <td>NaN</td>\n",
       "      <td>link</td>\n",
       "      <td>13</td>\n",
       "    </tr>\n",
       "    <tr>\n",
       "      <th>25105101</th>\n",
       "      <td>Floating-point_arithmetic</td>\n",
       "      <td>NaN</td>\n",
       "      <td>link</td>\n",
       "      <td>42</td>\n",
       "    </tr>\n",
       "    <tr>\n",
       "      <th>25105102</th>\n",
       "      <td>Division_by_zero</td>\n",
       "      <td>NaN</td>\n",
       "      <td>link</td>\n",
       "      <td>66</td>\n",
       "    </tr>\n",
       "    <tr>\n",
       "      <th>25105103</th>\n",
       "      <td>other-other</td>\n",
       "      <td>NaN</td>\n",
       "      <td>external</td>\n",
       "      <td>161</td>\n",
       "    </tr>\n",
       "    <tr>\n",
       "      <th>25105104</th>\n",
       "      <td>IEEE_754</td>\n",
       "      <td>NaN</td>\n",
       "      <td>link</td>\n",
       "      <td>157</td>\n",
       "    </tr>\n",
       "    <tr>\n",
       "      <th>25105105</th>\n",
       "      <td>IEEE_754-1985</td>\n",
       "      <td>NaN</td>\n",
       "      <td>link</td>\n",
       "      <td>54</td>\n",
       "    </tr>\n",
       "    <tr>\n",
       "      <th>25105106</th>\n",
       "      <td>Sodium_azide</td>\n",
       "      <td>NaN</td>\n",
       "      <td>link</td>\n",
       "      <td>41</td>\n",
       "    </tr>\n",
       "    <tr>\n",
       "      <th>25105107</th>\n",
       "      <td>JSON</td>\n",
       "      <td>NaN</td>\n",
       "      <td>link</td>\n",
       "      <td>131</td>\n",
       "    </tr>\n",
       "    <tr>\n",
       "      <th>25105108</th>\n",
       "      <td>Half-precision_floating-point_format</td>\n",
       "      <td>NaN</td>\n",
       "      <td>link</td>\n",
       "      <td>17</td>\n",
       "    </tr>\n",
       "    <tr>\n",
       "      <th>25105109</th>\n",
       "      <td>Does_not_compute</td>\n",
       "      <td>NaN</td>\n",
       "      <td>link</td>\n",
       "      <td>20</td>\n",
       "    </tr>\n",
       "    <tr>\n",
       "      <th>25105110</th>\n",
       "      <td>other-internal</td>\n",
       "      <td>NaN</td>\n",
       "      <td>external</td>\n",
       "      <td>208</td>\n",
       "    </tr>\n",
       "    <tr>\n",
       "      <th>25105111</th>\n",
       "      <td>Single-precision_floating-point_format</td>\n",
       "      <td>NaN</td>\n",
       "      <td>link</td>\n",
       "      <td>43</td>\n",
       "    </tr>\n",
       "    <tr>\n",
       "      <th>25105112</th>\n",
       "      <td>Double-precision_floating-point_format</td>\n",
       "      <td>NaN</td>\n",
       "      <td>link</td>\n",
       "      <td>83</td>\n",
       "    </tr>\n",
       "    <tr>\n",
       "      <th>25105113</th>\n",
       "      <td>Main_Page</td>\n",
       "      <td>NaN</td>\n",
       "      <td>other</td>\n",
       "      <td>14</td>\n",
       "    </tr>\n",
       "    <tr>\n",
       "      <th>25105114</th>\n",
       "      <td>Signed_zero</td>\n",
       "      <td>NaN</td>\n",
       "      <td>link</td>\n",
       "      <td>37</td>\n",
       "    </tr>\n",
       "    <tr>\n",
       "      <th>25105115</th>\n",
       "      <td>Zero_to_the_power_of_zero</td>\n",
       "      <td>NaN</td>\n",
       "      <td>link</td>\n",
       "      <td>16</td>\n",
       "    </tr>\n",
       "    <tr>\n",
       "      <th>25105116</th>\n",
       "      <td>other-empty</td>\n",
       "      <td>NaN</td>\n",
       "      <td>external</td>\n",
       "      <td>2481</td>\n",
       "    </tr>\n",
       "    <tr>\n",
       "      <th>25105117</th>\n",
       "      <td>Imaginary_number</td>\n",
       "      <td>NaN</td>\n",
       "      <td>link</td>\n",
       "      <td>263</td>\n",
       "    </tr>\n",
       "    <tr>\n",
       "      <th>25105118</th>\n",
       "      <td>other-search</td>\n",
       "      <td>NaN</td>\n",
       "      <td>external</td>\n",
       "      <td>8553</td>\n",
       "    </tr>\n",
       "    <tr>\n",
       "      <th>25105119</th>\n",
       "      <td>Infinity</td>\n",
       "      <td>NaN</td>\n",
       "      <td>link</td>\n",
       "      <td>22</td>\n",
       "    </tr>\n",
       "    <tr>\n",
       "      <th>25105120</th>\n",
       "      <td>Nan</td>\n",
       "      <td>NaN</td>\n",
       "      <td>link</td>\n",
       "      <td>59</td>\n",
       "    </tr>\n",
       "    <tr>\n",
       "      <th>25341526</th>\n",
       "      <td>NaN</td>\n",
       "      <td>Computing</td>\n",
       "      <td>link</td>\n",
       "      <td>14</td>\n",
       "    </tr>\n",
       "    <tr>\n",
       "      <th>26914521</th>\n",
       "      <td>NaN</td>\n",
       "      <td>Arithmetic_underflow</td>\n",
       "      <td>link</td>\n",
       "      <td>32</td>\n",
       "    </tr>\n",
       "    <tr>\n",
       "      <th>27472695</th>\n",
       "      <td>NaN</td>\n",
       "      <td>Complex_number</td>\n",
       "      <td>link</td>\n",
       "      <td>11</td>\n",
       "    </tr>\n",
       "  </tbody>\n",
       "</table>\n",
       "</div>"
      ],
      "text/plain": [
       "                                            prev  \\\n",
       "1243865                                      NaN   \n",
       "2822357                                      NaN   \n",
       "3122407                                      NaN   \n",
       "4195944                                      NaN   \n",
       "6061489                                      NaN   \n",
       "8452761                                      NaN   \n",
       "11967365                                     NaN   \n",
       "13542293                                     NaN   \n",
       "17779608                                     NaN   \n",
       "18553454                                     NaN   \n",
       "18681934                                     NaN   \n",
       "19490518                                     NaN   \n",
       "20136593                                     NaN   \n",
       "20192844                                     NaN   \n",
       "20877173                                     NaN   \n",
       "21736447                                     NaN   \n",
       "21740800                                     NaN   \n",
       "24293997                                     NaN   \n",
       "24993113                                     NaN   \n",
       "25105098                          other-external   \n",
       "25105099              Magic_number_(programming)   \n",
       "25105100              Lua_(programming_language)   \n",
       "25105101               Floating-point_arithmetic   \n",
       "25105102                        Division_by_zero   \n",
       "25105103                             other-other   \n",
       "25105104                                IEEE_754   \n",
       "25105105                           IEEE_754-1985   \n",
       "25105106                            Sodium_azide   \n",
       "25105107                                    JSON   \n",
       "25105108    Half-precision_floating-point_format   \n",
       "25105109                        Does_not_compute   \n",
       "25105110                          other-internal   \n",
       "25105111  Single-precision_floating-point_format   \n",
       "25105112  Double-precision_floating-point_format   \n",
       "25105113                               Main_Page   \n",
       "25105114                             Signed_zero   \n",
       "25105115               Zero_to_the_power_of_zero   \n",
       "25105116                             other-empty   \n",
       "25105117                        Imaginary_number   \n",
       "25105118                            other-search   \n",
       "25105119                                Infinity   \n",
       "25105120                                     Nan   \n",
       "25341526                                     NaN   \n",
       "26914521                                     NaN   \n",
       "27472695                                     NaN   \n",
       "\n",
       "                                            curr      type     n  \n",
       "1243865                         Imaginary_number      link    17  \n",
       "2822357                       Indeterminate_form      link    60  \n",
       "3122407                Extended_real_number_line      link    27  \n",
       "4195944                                      Nan     other    18  \n",
       "6061489                Zero_to_the_power_of_zero      link    32  \n",
       "8452761                              Real_number      link    10  \n",
       "11967365                            Hyphen-minus     other    14  \n",
       "13542293                        Integer_overflow      link    12  \n",
       "17779608                               Main_Page     other    20  \n",
       "18553454                         Denormal_number      link    23  \n",
       "18681934                            Sodium_azide      link    75  \n",
       "19490518               Floating-point_arithmetic      link    80  \n",
       "20136593                               Data_type      link    29  \n",
       "20192844  Double-precision_floating-point_format      link    26  \n",
       "20877173                                IEEE_754      link   235  \n",
       "21736447                      Undefined_behavior      link    14  \n",
       "21740800                                Infinity      link    42  \n",
       "24293997  Single-precision_floating-point_format      link    11  \n",
       "24993113                        Computer_algebra      link    17  \n",
       "25105098                                     NaN  external   972  \n",
       "25105099                                     NaN      link    49  \n",
       "25105100                                     NaN      link    13  \n",
       "25105101                                     NaN      link    42  \n",
       "25105102                                     NaN      link    66  \n",
       "25105103                                     NaN  external   161  \n",
       "25105104                                     NaN      link   157  \n",
       "25105105                                     NaN      link    54  \n",
       "25105106                                     NaN      link    41  \n",
       "25105107                                     NaN      link   131  \n",
       "25105108                                     NaN      link    17  \n",
       "25105109                                     NaN      link    20  \n",
       "25105110                                     NaN  external   208  \n",
       "25105111                                     NaN      link    43  \n",
       "25105112                                     NaN      link    83  \n",
       "25105113                                     NaN     other    14  \n",
       "25105114                                     NaN      link    37  \n",
       "25105115                                     NaN      link    16  \n",
       "25105116                                     NaN  external  2481  \n",
       "25105117                                     NaN      link   263  \n",
       "25105118                                     NaN  external  8553  \n",
       "25105119                                     NaN      link    22  \n",
       "25105120                                     NaN      link    59  \n",
       "25341526                               Computing      link    14  \n",
       "26914521                    Arithmetic_underflow      link    32  \n",
       "27472695                          Complex_number      link    11  "
      ]
     },
     "execution_count": 13,
     "metadata": {},
     "output_type": "execute_result"
    }
   ],
   "source": [
    "#45 Missing data I wonder which are they\n",
    "data[data.isnull().any(axis=1)]"
   ]
  },
  {
   "cell_type": "markdown",
   "metadata": {},
   "source": [
    "Anyway, I can safely remove 45  NaN's from the dataframe"
   ]
  },
  {
   "cell_type": "code",
   "execution_count": 14,
   "metadata": {},
   "outputs": [],
   "source": [
    "data.dropna(axis=0, inplace=True)"
   ]
  },
  {
   "cell_type": "code",
   "execution_count": 15,
   "metadata": {},
   "outputs": [
    {
     "data": {
      "text/plain": [
       "0"
      ]
     },
     "execution_count": 15,
     "metadata": {},
     "output_type": "execute_result"
    }
   ],
   "source": [
    "data.isnull().sum().sum()"
   ]
  },
  {
   "cell_type": "code",
   "execution_count": 16,
   "metadata": {},
   "outputs": [
    {
     "name": "stdout",
     "output_type": "stream",
     "text": [
      "<class 'pandas.core.frame.DataFrame'>\n",
      "Int64Index: 27684995 entries, 0 to 27685039\n",
      "Data columns (total 4 columns):\n",
      "prev    object\n",
      "curr    object\n",
      "type    object\n",
      "n       int64\n",
      "dtypes: int64(1), object(3)\n",
      "memory usage: 1.0+ GB\n"
     ]
    }
   ],
   "source": [
    "data.info()"
   ]
  },
  {
   "cell_type": "code",
   "execution_count": 17,
   "metadata": {},
   "outputs": [
    {
     "data": {
      "text/plain": [
       "prev    True\n",
       "curr    True\n",
       "type    True\n",
       "dtype: bool"
      ]
     },
     "execution_count": 17,
     "metadata": {},
     "output_type": "execute_result"
    }
   ],
   "source": [
    "# Lets check if all examples  of prev, curr and type are strings\n",
    "data[['prev', 'curr', 'type']].applymap(type).eq(str).all()"
   ]
  },
  {
   "cell_type": "code",
   "execution_count": 18,
   "metadata": {},
   "outputs": [
    {
     "name": "stdout",
     "output_type": "stream",
     "text": [
      "idx: 17841134, value = 395349956, type: <class 'numpy.int64'>\n"
     ]
    }
   ],
   "source": [
    "# maximal value in n column?\n",
    "print('idx: {}, value = {}, type: {}'.format(data.n.idxmax(), data.n.max(), type(data.n.max())))"
   ]
  },
  {
   "cell_type": "code",
   "execution_count": 19,
   "metadata": {},
   "outputs": [
    {
     "data": {
      "text/plain": [
       "True"
      ]
     },
     "execution_count": 19,
     "metadata": {},
     "output_type": "execute_result"
    }
   ],
   "source": [
    "#Still less than np.int32 range, which is  2147483647\n",
    "395349956<2147483647"
   ]
  },
  {
   "cell_type": "code",
   "execution_count": 20,
   "metadata": {},
   "outputs": [],
   "source": [
    "# We can optimize a bit memory usage\n",
    "data['n'] = data['n'].astype('int32')"
   ]
  },
  {
   "cell_type": "code",
   "execution_count": 21,
   "metadata": {},
   "outputs": [
    {
     "name": "stdout",
     "output_type": "stream",
     "text": [
      "<class 'pandas.core.frame.DataFrame'>\n",
      "Int64Index: 27684995 entries, 0 to 27685039\n",
      "Data columns (total 4 columns):\n",
      "prev    object\n",
      "curr    object\n",
      "type    object\n",
      "n       int32\n",
      "dtypes: int32(1), object(3)\n",
      "memory usage: 950.5+ MB\n"
     ]
    }
   ],
   "source": [
    "data.info()"
   ]
  },
  {
   "cell_type": "code",
   "execution_count": 22,
   "metadata": {},
   "outputs": [
    {
     "name": "stdout",
     "output_type": "stream",
     "text": [
      "idx: 17841134, value = 395349956, type: <class 'numpy.int32'>\n"
     ]
    }
   ],
   "source": [
    "print('idx: {}, value = {}, type: {}'.format(data.n.idxmax(), data.n.max(), type(data.n.max())))"
   ]
  },
  {
   "cell_type": "markdown",
   "metadata": {},
   "source": [
    "## Determine which links people click on most frequently in a given article.\n",
    "\n",
    "According to wiki metadata all internal sources have type link or other, only distinction is, that links are articles requested and served, while other are requested, but referer does not link to the reqauest. So in order for link to be \"clickable by people it must be connecting two articles and be of type link"
   ]
  },
  {
   "cell_type": "code",
   "execution_count": 23,
   "metadata": {},
   "outputs": [],
   "source": [
    "df_link = data[data['type'] == 'link']"
   ]
  },
  {
   "cell_type": "code",
   "execution_count": 24,
   "metadata": {},
   "outputs": [
    {
     "data": {
      "text/plain": [
       "False"
      ]
     },
     "execution_count": 24,
     "metadata": {},
     "output_type": "execute_result"
    }
   ],
   "source": [
    "# is there any other source in prev, except Unique Wiki title?\n",
    "'^other*' in df_link.prev.values"
   ]
  },
  {
   "cell_type": "code",
   "execution_count": 25,
   "metadata": {},
   "outputs": [
    {
     "data": {
      "text/html": [
       "<div>\n",
       "<style scoped>\n",
       "    .dataframe tbody tr th:only-of-type {\n",
       "        vertical-align: middle;\n",
       "    }\n",
       "\n",
       "    .dataframe tbody tr th {\n",
       "        vertical-align: top;\n",
       "    }\n",
       "\n",
       "    .dataframe thead th {\n",
       "        text-align: right;\n",
       "    }\n",
       "</style>\n",
       "<table border=\"1\" class=\"dataframe\">\n",
       "  <thead>\n",
       "    <tr style=\"text-align: right;\">\n",
       "      <th></th>\n",
       "      <th>prev</th>\n",
       "      <th>curr</th>\n",
       "      <th>type</th>\n",
       "      <th>n</th>\n",
       "    </tr>\n",
       "  </thead>\n",
       "  <tbody>\n",
       "    <tr>\n",
       "      <th>1</th>\n",
       "      <td>Babylas_of_Antioch</td>\n",
       "      <td>Decian_persecution</td>\n",
       "      <td>link</td>\n",
       "      <td>10</td>\n",
       "    </tr>\n",
       "    <tr>\n",
       "      <th>2</th>\n",
       "      <td>Decius</td>\n",
       "      <td>Decian_persecution</td>\n",
       "      <td>link</td>\n",
       "      <td>82</td>\n",
       "    </tr>\n",
       "    <tr>\n",
       "      <th>4</th>\n",
       "      <td>Roman_Empire</td>\n",
       "      <td>Decian_persecution</td>\n",
       "      <td>link</td>\n",
       "      <td>14</td>\n",
       "    </tr>\n",
       "    <tr>\n",
       "      <th>5</th>\n",
       "      <td>Pope_Fabian</td>\n",
       "      <td>Decian_persecution</td>\n",
       "      <td>link</td>\n",
       "      <td>32</td>\n",
       "    </tr>\n",
       "    <tr>\n",
       "      <th>6</th>\n",
       "      <td>Saint_Lucy</td>\n",
       "      <td>Decian_persecution</td>\n",
       "      <td>link</td>\n",
       "      <td>33</td>\n",
       "    </tr>\n",
       "  </tbody>\n",
       "</table>\n",
       "</div>"
      ],
      "text/plain": [
       "                 prev                curr  type   n\n",
       "1  Babylas_of_Antioch  Decian_persecution  link  10\n",
       "2              Decius  Decian_persecution  link  82\n",
       "4        Roman_Empire  Decian_persecution  link  14\n",
       "5         Pope_Fabian  Decian_persecution  link  32\n",
       "6          Saint_Lucy  Decian_persecution  link  33"
      ]
     },
     "execution_count": 25,
     "metadata": {},
     "output_type": "execute_result"
    }
   ],
   "source": [
    "df_link.head()"
   ]
  },
  {
   "cell_type": "markdown",
   "metadata": {},
   "source": [
    "Now, when I have links clicked from articles to articles I can group them and count frequency. I will group by curr column, since this column refers to the link requested and sum up all events recorded in n column."
   ]
  },
  {
   "cell_type": "code",
   "execution_count": 26,
   "metadata": {},
   "outputs": [
    {
     "data": {
      "text/html": [
       "<div>\n",
       "<style scoped>\n",
       "    .dataframe tbody tr th:only-of-type {\n",
       "        vertical-align: middle;\n",
       "    }\n",
       "\n",
       "    .dataframe tbody tr th {\n",
       "        vertical-align: top;\n",
       "    }\n",
       "\n",
       "    .dataframe thead th {\n",
       "        text-align: right;\n",
       "    }\n",
       "</style>\n",
       "<table border=\"1\" class=\"dataframe\">\n",
       "  <thead>\n",
       "    <tr style=\"text-align: right;\">\n",
       "      <th></th>\n",
       "      <th>n</th>\n",
       "    </tr>\n",
       "    <tr>\n",
       "      <th>curr</th>\n",
       "      <th></th>\n",
       "    </tr>\n",
       "  </thead>\n",
       "  <tbody>\n",
       "    <tr>\n",
       "      <th>2018_FIFA_World_Cup</th>\n",
       "      <td>1900328</td>\n",
       "    </tr>\n",
       "    <tr>\n",
       "      <th>Deaths_in_2018</th>\n",
       "      <td>1202549</td>\n",
       "    </tr>\n",
       "    <tr>\n",
       "      <th>2014_FIFA_World_Cup</th>\n",
       "      <td>988879</td>\n",
       "    </tr>\n",
       "    <tr>\n",
       "      <th>Andy_Spade</th>\n",
       "      <td>945346</td>\n",
       "    </tr>\n",
       "    <tr>\n",
       "      <th>2010_FIFA_World_Cup</th>\n",
       "      <td>781793</td>\n",
       "    </tr>\n",
       "  </tbody>\n",
       "</table>\n",
       "</div>"
      ],
      "text/plain": [
       "                           n\n",
       "curr                        \n",
       "2018_FIFA_World_Cup  1900328\n",
       "Deaths_in_2018       1202549\n",
       "2014_FIFA_World_Cup   988879\n",
       "Andy_Spade            945346\n",
       "2010_FIFA_World_Cup   781793"
      ]
     },
     "execution_count": 26,
     "metadata": {},
     "output_type": "execute_result"
    }
   ],
   "source": [
    "df_link.groupby('curr').sum().sort_values('n', ascending=False)[:5]"
   ]
  },
  {
   "cell_type": "markdown",
   "metadata": {},
   "source": [
    "Most frequently clicked link in Jun 2018 was ... **2018_FIFA_World_Cup**."
   ]
  },
  {
   "cell_type": "markdown",
   "metadata": {},
   "source": [
    "## Determine the most common referrers for a given article."
   ]
  },
  {
   "cell_type": "markdown",
   "metadata": {},
   "source": [
    "Referrer is any element from prev column, no matter where it came from, it always leads to the wiki article in curr column. I will just group by prev in entire dataset and sum all events denoted in n column."
   ]
  },
  {
   "cell_type": "code",
   "execution_count": 35,
   "metadata": {},
   "outputs": [
    {
     "data": {
      "text/html": [
       "<div>\n",
       "<style scoped>\n",
       "    .dataframe tbody tr th:only-of-type {\n",
       "        vertical-align: middle;\n",
       "    }\n",
       "\n",
       "    .dataframe tbody tr th {\n",
       "        vertical-align: top;\n",
       "    }\n",
       "\n",
       "    .dataframe thead th {\n",
       "        text-align: right;\n",
       "    }\n",
       "</style>\n",
       "<table border=\"1\" class=\"dataframe\">\n",
       "  <thead>\n",
       "    <tr style=\"text-align: right;\">\n",
       "      <th></th>\n",
       "      <th>n</th>\n",
       "    </tr>\n",
       "    <tr>\n",
       "      <th>prev</th>\n",
       "      <th></th>\n",
       "    </tr>\n",
       "  </thead>\n",
       "  <tbody>\n",
       "    <tr>\n",
       "      <th>other-search</th>\n",
       "      <td>2.864706e+09</td>\n",
       "    </tr>\n",
       "    <tr>\n",
       "      <th>other-empty</th>\n",
       "      <td>1.772645e+09</td>\n",
       "    </tr>\n",
       "    <tr>\n",
       "      <th>other-external</th>\n",
       "      <td>1.220500e+08</td>\n",
       "    </tr>\n",
       "    <tr>\n",
       "      <th>other-internal</th>\n",
       "      <td>1.192836e+08</td>\n",
       "    </tr>\n",
       "    <tr>\n",
       "      <th>other-other</th>\n",
       "      <td>1.100574e+08</td>\n",
       "    </tr>\n",
       "    <tr>\n",
       "      <th>Main_Page</th>\n",
       "      <td>3.166799e+07</td>\n",
       "    </tr>\n",
       "    <tr>\n",
       "      <th>2018_FIFA_World_Cup</th>\n",
       "      <td>5.727654e+06</td>\n",
       "    </tr>\n",
       "    <tr>\n",
       "      <th>FIFA_World_Cup</th>\n",
       "      <td>2.771914e+06</td>\n",
       "    </tr>\n",
       "    <tr>\n",
       "      <th>2018_FIFA_World_Cup_squads</th>\n",
       "      <td>2.208307e+06</td>\n",
       "    </tr>\n",
       "    <tr>\n",
       "      <th>Kate_Spade</th>\n",
       "      <td>1.871100e+06</td>\n",
       "    </tr>\n",
       "  </tbody>\n",
       "</table>\n",
       "</div>"
      ],
      "text/plain": [
       "                                       n\n",
       "prev                                    \n",
       "other-search                2.864706e+09\n",
       "other-empty                 1.772645e+09\n",
       "other-external              1.220500e+08\n",
       "other-internal              1.192836e+08\n",
       "other-other                 1.100574e+08\n",
       "Main_Page                   3.166799e+07\n",
       "2018_FIFA_World_Cup         5.727654e+06\n",
       "FIFA_World_Cup              2.771914e+06\n",
       "2018_FIFA_World_Cup_squads  2.208307e+06\n",
       "Kate_Spade                  1.871100e+06"
      ]
     },
     "execution_count": 35,
     "metadata": {},
     "output_type": "execute_result"
    }
   ],
   "source": [
    "data.groupby('prev').sum().sort_values('n', ascending=False)[:10]"
   ]
  },
  {
   "cell_type": "markdown",
   "metadata": {},
   "source": [
    "Analysis says, that in June 2018 most common referrer (2.86 bln) to wikipedia articles was group of **search engines**."
   ]
  },
  {
   "cell_type": "markdown",
   "metadata": {},
   "source": [
    "It is also worth to note, that it was 2018 World Cup seazon, and it can be seen in Wikipedia clickstream results. Wiki page about World Cup Wiki pages came up also very high (7th, 8th and 9th) in top ten referrers."
   ]
  },
  {
   "cell_type": "markdown",
   "metadata": {},
   "source": [
    "## Determine what percentage of all visitors clicked on a link within a given article.\n",
    "\n",
    "I already calculated nuumber of links, which were served from links in df_link. Calculating percentage will be easy as: taking all events from that data frame and divide it by total number of visitors (all n summ from entire data set)."
   ]
  },
  {
   "cell_type": "code",
   "execution_count": 36,
   "metadata": {},
   "outputs": [
    {
     "data": {
      "text/plain": [
       "'Percentage of all visitors, who clicked on a link within a given article is 22.88%'"
      ]
     },
     "execution_count": 36,
     "metadata": {},
     "output_type": "execute_result"
    }
   ],
   "source": [
    "'Percentage of all visitors, who clicked on a link within a given article is {:.2%}'.format(df_link.n.sum()/data.n.sum())"
   ]
  },
  {
   "cell_type": "markdown",
   "metadata": {},
   "source": [
    "Answer: **22.88%**"
   ]
  },
  {
   "cell_type": "markdown",
   "metadata": {},
   "source": [
    "## Determine and visualise the most popular articles people accessed from all external search engines."
   ]
  },
  {
   "cell_type": "markdown",
   "metadata": {},
   "source": [
    "I need to get all rows containing 'other-search' in prev column. Then group by curr column (requested articles) and sort by n descending."
   ]
  },
  {
   "cell_type": "code",
   "execution_count": 37,
   "metadata": {},
   "outputs": [
    {
     "data": {
      "text/html": [
       "<div>\n",
       "<style scoped>\n",
       "    .dataframe tbody tr th:only-of-type {\n",
       "        vertical-align: middle;\n",
       "    }\n",
       "\n",
       "    .dataframe tbody tr th {\n",
       "        vertical-align: top;\n",
       "    }\n",
       "\n",
       "    .dataframe thead th {\n",
       "        text-align: right;\n",
       "    }\n",
       "</style>\n",
       "<table border=\"1\" class=\"dataframe\">\n",
       "  <thead>\n",
       "    <tr style=\"text-align: right;\">\n",
       "      <th></th>\n",
       "      <th>prev</th>\n",
       "      <th>curr</th>\n",
       "      <th>type</th>\n",
       "      <th>n</th>\n",
       "    </tr>\n",
       "  </thead>\n",
       "  <tbody>\n",
       "    <tr>\n",
       "      <th>14</th>\n",
       "      <td>other-search</td>\n",
       "      <td>Decian_persecution</td>\n",
       "      <td>external</td>\n",
       "      <td>399</td>\n",
       "    </tr>\n",
       "    <tr>\n",
       "      <th>18</th>\n",
       "      <td>other-search</td>\n",
       "      <td>Hyper-Wiener_index</td>\n",
       "      <td>external</td>\n",
       "      <td>56</td>\n",
       "    </tr>\n",
       "    <tr>\n",
       "      <th>21</th>\n",
       "      <td>other-search</td>\n",
       "      <td>Fitzsimmons_Range</td>\n",
       "      <td>external</td>\n",
       "      <td>80</td>\n",
       "    </tr>\n",
       "    <tr>\n",
       "      <th>24</th>\n",
       "      <td>other-search</td>\n",
       "      <td>River_Redlake</td>\n",
       "      <td>external</td>\n",
       "      <td>20</td>\n",
       "    </tr>\n",
       "    <tr>\n",
       "      <th>25</th>\n",
       "      <td>other-search</td>\n",
       "      <td>Fountain_Central_High_School</td>\n",
       "      <td>external</td>\n",
       "      <td>29</td>\n",
       "    </tr>\n",
       "  </tbody>\n",
       "</table>\n",
       "</div>"
      ],
      "text/plain": [
       "            prev                          curr      type    n\n",
       "14  other-search            Decian_persecution  external  399\n",
       "18  other-search            Hyper-Wiener_index  external   56\n",
       "21  other-search             Fitzsimmons_Range  external   80\n",
       "24  other-search                 River_Redlake  external   20\n",
       "25  other-search  Fountain_Central_High_School  external   29"
      ]
     },
     "execution_count": 37,
     "metadata": {},
     "output_type": "execute_result"
    }
   ],
   "source": [
    "df_search = data[data['prev'].str.contains('other-search')]\n",
    "# Just pre-view of the data-set\n",
    "df_search.head()"
   ]
  },
  {
   "cell_type": "code",
   "execution_count": 38,
   "metadata": {},
   "outputs": [],
   "source": [
    "group = df_search.groupby('curr').sum().sort_values('n', ascending=False)[:20]"
   ]
  },
  {
   "cell_type": "code",
   "execution_count": 39,
   "metadata": {},
   "outputs": [],
   "source": [
    "group = group.reset_index()"
   ]
  },
  {
   "cell_type": "code",
   "execution_count": 40,
   "metadata": {},
   "outputs": [
    {
     "data": {
      "text/html": [
       "<div>\n",
       "<style scoped>\n",
       "    .dataframe tbody tr th:only-of-type {\n",
       "        vertical-align: middle;\n",
       "    }\n",
       "\n",
       "    .dataframe tbody tr th {\n",
       "        vertical-align: top;\n",
       "    }\n",
       "\n",
       "    .dataframe thead th {\n",
       "        text-align: right;\n",
       "    }\n",
       "</style>\n",
       "<table border=\"1\" class=\"dataframe\">\n",
       "  <thead>\n",
       "    <tr style=\"text-align: right;\">\n",
       "      <th></th>\n",
       "      <th>curr</th>\n",
       "      <th>n</th>\n",
       "    </tr>\n",
       "  </thead>\n",
       "  <tbody>\n",
       "    <tr>\n",
       "      <th>0</th>\n",
       "      <td>XXXTentacion</td>\n",
       "      <td>6724911</td>\n",
       "    </tr>\n",
       "    <tr>\n",
       "      <th>1</th>\n",
       "      <td>2018_FIFA_World_Cup</td>\n",
       "      <td>6529910</td>\n",
       "    </tr>\n",
       "    <tr>\n",
       "      <th>2</th>\n",
       "      <td>Anthony_Bourdain</td>\n",
       "      <td>5586971</td>\n",
       "    </tr>\n",
       "    <tr>\n",
       "      <th>3</th>\n",
       "      <td>Kate_Spade</td>\n",
       "      <td>3972840</td>\n",
       "    </tr>\n",
       "    <tr>\n",
       "      <th>4</th>\n",
       "      <td>Cristiano_Ronaldo</td>\n",
       "      <td>2744483</td>\n",
       "    </tr>\n",
       "    <tr>\n",
       "      <th>5</th>\n",
       "      <td>List_of_FIFA_World_Cup_finals</td>\n",
       "      <td>2527964</td>\n",
       "    </tr>\n",
       "    <tr>\n",
       "      <th>6</th>\n",
       "      <td>Main_Page</td>\n",
       "      <td>2507953</td>\n",
       "    </tr>\n",
       "    <tr>\n",
       "      <th>7</th>\n",
       "      <td>FIFA_World_Cup</td>\n",
       "      <td>2272299</td>\n",
       "    </tr>\n",
       "    <tr>\n",
       "      <th>8</th>\n",
       "      <td>Lionel_Messi</td>\n",
       "      <td>2151952</td>\n",
       "    </tr>\n",
       "    <tr>\n",
       "      <th>9</th>\n",
       "      <td>Jurassic_World:_Fallen_Kingdom</td>\n",
       "      <td>1837374</td>\n",
       "    </tr>\n",
       "    <tr>\n",
       "      <th>10</th>\n",
       "      <td>Michael_Peterson_(criminal)</td>\n",
       "      <td>1728784</td>\n",
       "    </tr>\n",
       "    <tr>\n",
       "      <th>11</th>\n",
       "      <td>LeBron_James</td>\n",
       "      <td>1690849</td>\n",
       "    </tr>\n",
       "    <tr>\n",
       "      <th>12</th>\n",
       "      <td>Hereditary_(film)</td>\n",
       "      <td>1674239</td>\n",
       "    </tr>\n",
       "    <tr>\n",
       "      <th>13</th>\n",
       "      <td>Incredibles_2</td>\n",
       "      <td>1506492</td>\n",
       "    </tr>\n",
       "    <tr>\n",
       "      <th>14</th>\n",
       "      <td>Pete_Davidson</td>\n",
       "      <td>1389748</td>\n",
       "    </tr>\n",
       "    <tr>\n",
       "      <th>15</th>\n",
       "      <td>Avengers:_Infinity_War</td>\n",
       "      <td>1380186</td>\n",
       "    </tr>\n",
       "    <tr>\n",
       "      <th>16</th>\n",
       "      <td>2014_FIFA_World_Cup</td>\n",
       "      <td>1178631</td>\n",
       "    </tr>\n",
       "    <tr>\n",
       "      <th>17</th>\n",
       "      <td>Nick_Jonas</td>\n",
       "      <td>1135867</td>\n",
       "    </tr>\n",
       "    <tr>\n",
       "      <th>18</th>\n",
       "      <td>Race_3</td>\n",
       "      <td>1116699</td>\n",
       "    </tr>\n",
       "    <tr>\n",
       "      <th>19</th>\n",
       "      <td>Ocean's_8</td>\n",
       "      <td>1103706</td>\n",
       "    </tr>\n",
       "  </tbody>\n",
       "</table>\n",
       "</div>"
      ],
      "text/plain": [
       "                              curr        n\n",
       "0                     XXXTentacion  6724911\n",
       "1              2018_FIFA_World_Cup  6529910\n",
       "2                 Anthony_Bourdain  5586971\n",
       "3                       Kate_Spade  3972840\n",
       "4                Cristiano_Ronaldo  2744483\n",
       "5    List_of_FIFA_World_Cup_finals  2527964\n",
       "6                        Main_Page  2507953\n",
       "7                   FIFA_World_Cup  2272299\n",
       "8                     Lionel_Messi  2151952\n",
       "9   Jurassic_World:_Fallen_Kingdom  1837374\n",
       "10     Michael_Peterson_(criminal)  1728784\n",
       "11                    LeBron_James  1690849\n",
       "12               Hereditary_(film)  1674239\n",
       "13                   Incredibles_2  1506492\n",
       "14                   Pete_Davidson  1389748\n",
       "15          Avengers:_Infinity_War  1380186\n",
       "16             2014_FIFA_World_Cup  1178631\n",
       "17                      Nick_Jonas  1135867\n",
       "18                          Race_3  1116699\n",
       "19                       Ocean's_8  1103706"
      ]
     },
     "execution_count": 40,
     "metadata": {},
     "output_type": "execute_result"
    }
   ],
   "source": [
    "group"
   ]
  },
  {
   "cell_type": "code",
   "execution_count": 42,
   "metadata": {},
   "outputs": [
    {
     "data": {
      "image/png": "[encoded data removed]",
      "text/plain": [
       "<Figure size 1080x1440 with 1 Axes>"
      ]
     },
     "metadata": {},
     "output_type": "display_data"
    }
   ],
   "source": [
    "import seaborn as sns\n",
    "import matplotlib.pyplot as plt\n",
    "sns.set(style=\"whitegrid\")\n",
    "\n",
    "fig, ax = plt.subplots(figsize=(15, 20))\n",
    "\n",
    "sns.set_color_codes(\"pastel\")\n",
    "sns.barplot(x=\"n\", y=\"curr\", data=group,\n",
    "            color=\"b\")\n",
    "\n",
    "for tick in ax.yaxis.get_major_ticks():\n",
    "    tick.label.set_fontsize(16)\n",
    "\n",
    "for tick in ax.xaxis.get_major_ticks():\n",
    "    tick.label.set_fontsize(16)\n",
    "                            \n",
    "ax.set_title('20 Most popular articles accessed from search engines\\n in June 2018', fontdict={'fontsize':30, 'fontweight': 'bold'})\n",
    "\n",
    "ax.set_xlabel(\"Number of visits\", fontsize=24)\n",
    "ax.set_ylabel('')\n",
    "sns.despine(left=True, bottom=True)\n",
    "fig.tight_layout()\n",
    "fig.savefig('popular_20.png', dpi=72)\n"
   ]
  },
  {
   "cell_type": "markdown",
   "metadata": {},
   "source": [
    "Most popular site accessed from external engines was **XXXTentacion**, page about USA raper, who was shot in June. His premature demise attracted similar numbe rof people as 2018 Fifa World Cup."
   ]
  }
 ],
 "metadata": {
  "kernelspec": {
   "display_name": "Python 3",
   "language": "python",
   "name": "python3"
  },
  "language_info": {
   "codemirror_mode": {
    "name": "ipython",
    "version": 3
   },
   "file_extension": ".py",
   "mimetype": "text/x-python",
   "name": "python",
   "nbconvert_exporter": "python",
   "pygments_lexer": "ipython3",
   "version": "3.6.5"
  }
 },
 "nbformat": 4,
 "nbformat_minor": 2
}
